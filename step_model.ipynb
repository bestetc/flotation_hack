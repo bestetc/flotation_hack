{
 "cells": [
  {
   "cell_type": "code",
   "execution_count": 469,
   "id": "ba0143be-df17-47a0-a51c-f772d03bad7a",
   "metadata": {
    "tags": []
   },
   "outputs": [],
   "source": [
    "import os\n",
    "import sys\n",
    "\n",
    "from tqdm import tqdm\n",
    "import numpy as np\n",
    "import scipy as sp\n",
    "import pandas as pd\n",
    "from pykalman import KalmanFilter\n",
    "import torch\n",
    "from torch import nn\n",
    "from sklearn.linear_model import LinearRegression, Ridge, Lasso, ElasticNet\n",
    "from sklearn.tree import DecisionTreeRegressor\n",
    "from sklearn.preprocessing import MinMaxScaler\n",
    "from sklearn.mixture import BayesianGaussianMixture, GaussianMixture\n",
    "from sklearn.cluster import DBSCAN\n",
    "import catboost as cb\n",
    "\n",
    "import matplotlib.pyplot as plt\n",
    "import seaborn as sns\n",
    "from scipy.stats import norm\n",
    "from datetime import datetime, timedelta, time"
   ]
  },
  {
   "cell_type": "code",
   "execution_count": 470,
   "id": "63bc6963-b0d9-41f9-a0b1-1e83a1c419a0",
   "metadata": {
    "tags": []
   },
   "outputs": [],
   "source": [
    "path = \"./data/df_hack_final.csv\""
   ]
  },
  {
   "cell_type": "code",
   "execution_count": 471,
   "id": "465811ce-c5c1-432d-a05e-f7508d225c57",
   "metadata": {
    "tags": []
   },
   "outputs": [],
   "source": [
    "df = pd.read_csv(path)\n",
    "df['MEAS_DT'] = pd.to_datetime(df['MEAS_DT'])"
   ]
  },
  {
   "cell_type": "code",
   "execution_count": 472,
   "id": "b8f54b51-967b-450a-9cdd-fcac649c6cf9",
   "metadata": {
    "tags": []
   },
   "outputs": [],
   "source": [
    "drop_columns = [col for col in df.columns if col[8:11] in ['max', 'min']]\n",
    "df = df.drop(drop_columns, axis=1)"
   ]
  },
  {
   "cell_type": "code",
   "execution_count": 473,
   "id": "38e1269b-a066-4229-b993-bb96a776b30e",
   "metadata": {
    "tags": []
   },
   "outputs": [],
   "source": [
    "df.where(df[['Dens_1']] > 1.1, other=np.nan, inplace=True)\n",
    "df.where(df[['Ni_rec']] != 1, other=np.nan, inplace=True)"
   ]
  },
  {
   "cell_type": "code",
   "execution_count": 474,
   "id": "1e6b5016-00d7-4bc0-84f1-7a239d3ad6c8",
   "metadata": {
    "tags": []
   },
   "outputs": [],
   "source": [
    "def create_step_dataset(df, times_dict, target_list):\n",
    "    # 6 float\n",
    "    df_list = []\n",
    "    total_step = (sum(times_dict.values()) - times_dict[3]) // 15\n",
    "    df_rec = df[['Ni_rec', 'Ni_resth', 'Cu_resth']][total_step:]\n",
    "    df_list.append(df_rec)\n",
    "    # 0\n",
    "    columns_feed_1 = ['Dens_1', 'Ni_oreth', 'Cu_oreth']\n",
    "    df_list.append(df[columns_feed_1][:-total_step])\n",
    "    # 1 \n",
    "    step_1 = times_dict[1] // 15\n",
    "    columns_1 = [col for col in df.columns if (col[3] == '1') & (col[4] != 'F')]\n",
    "    df_list.append(df[columns_1][step_1:-total_step + step_1])\n",
    "    columns_feed_2 = [col for col in df.columns if (col[3] == '2') & (col[4] == 'F')]\n",
    "    columns_feed_2.append('Dens_2')\n",
    "    df_list.append(df[columns_feed_2][step_1:-total_step + step_1])\n",
    "    # 2\n",
    "    step_2 = step_1 + times_dict[2] // 15\n",
    "    columns_2 = [col for col in df.columns if (col[3] == '2') & (col[4] != 'F')]\n",
    "    df_list.append(df[columns_2][step_2:-total_step + step_2])\n",
    "    columns_feed_3 = [col for col in df.columns if (col[3] == '3') & (col[4] == 'F')]\n",
    "    columns_feed_3.append('Dens_3')\n",
    "    df_list.append(df[columns_feed_3][step_2:-total_step + step_2])\n",
    "    columns_feed_4 = [col for col in df.columns if (col[3] == '4') & (col[4] == 'F')]\n",
    "    columns_feed_4.append('Dens_4')\n",
    "    df_list.append(df[columns_feed_4][step_2:-total_step + step_2])\n",
    "    # 3\n",
    "    step_3 = step_2 + times_dict[3] // 15\n",
    "    columns_3 = [col for col in df.columns if (col[3] == '3') & (col[4] != 'F')]\n",
    "    df_list.append(df[columns_3][step_3:-total_step + step_3])\n",
    "    # 4\n",
    "    step_4 = step_2 + times_dict[4] // 15\n",
    "    columns_4 = [col for col in df.columns if (col[3] == '4') & (col[4] != 'F')]\n",
    "    df_list.append(df[columns_4][step_4:-total_step + step_4])\n",
    "    columns_feed_5 = [col for col in df.columns if (col[3] == '5') & (col[4] == 'F')]\n",
    "    columns_feed_5.append('Dens_5')\n",
    "    df_list.append(df[columns_feed_5][step_4:-total_step + step_4])\n",
    "    # 5\n",
    "    step_5 = step_4 + times_dict[5] // 15\n",
    "    columns_5 = [col for col in df.columns if (col[3] == '5') & (col[4] != 'F')]\n",
    "    df_list.append(df[columns_5][step_5:-total_step + step_5])\n",
    "    columns_feed_6 = [col for col in df.columns if (col[3] == '6') & (col[4] == 'F')]\n",
    "    columns_feed_6.append('Dens_6')\n",
    "    df_list.append(df[columns_feed_6][step_5:-total_step + step_5])\n",
    "    # 6\n",
    "    step_6 = step_5 + times_dict[6] // 15\n",
    "    columns_6 = [col for col in df.columns if (col[3] == '6') & (col[4] != 'F')]\n",
    "    df_list.append(df[columns_6][step_6:])\n",
    "    \n",
    "    full_dataset = pd.concat(df_list, axis=1)\n",
    "    # full_dataset = full_dataset[~full_dataset[target_list].isna().any(axis=1)]\n",
    "    full_dataset = full_dataset.reset_index(drop=True)\n",
    "\n",
    "    return full_dataset.drop(target_list, axis=1), full_dataset[target_list]"
   ]
  },
  {
   "cell_type": "code",
   "execution_count": 509,
   "id": "761a50d0-0e5b-4170-8fb0-7a3f99658d91",
   "metadata": {
    "tags": []
   },
   "outputs": [],
   "source": [
    "# times_dict = {\n",
    "#     1: 60,\n",
    "#     2: 60,\n",
    "#     3: 60,\n",
    "#     4: 60,\n",
    "#     5: 60,\n",
    "#     6: 60\n",
    "# }\n",
    "\n",
    "times_dict = {\n",
    "    1: 60,\n",
    "    2: 60,\n",
    "    3: 60,\n",
    "    4: 45,\n",
    "    5: 30,\n",
    "    6: 30,\n",
    "}\n",
    "\n",
    "target_list = [\n",
    "    'Ni_1.1C', 'Cu_1.1C', 'Ni_1.2C', 'Cu_1.2C',\n",
    "    'Cu_2.1T', 'Cu_2.2T', \n",
    "    'Cu_3.1T', 'Cu_3.2T',\n",
    "    'Ni_4.1C', 'Ni_4.2C',\n",
    "    'Ni_4.1T', 'Ni_4.2T',\n",
    "    'Ni_5.1C', 'Ni_5.2C',\n",
    "    'Ni_5.1T', 'Ni_5.2T',\n",
    "    'Ni_6.1C', 'Ni_6.2C',\n",
    "    'Ni_6.1T', 'Ni_6.2T',\n",
    "]"
   ]
  },
  {
   "cell_type": "code",
   "execution_count": 510,
   "id": "c072ea28-d817-480d-b0df-7f0c212b2335",
   "metadata": {
    "tags": []
   },
   "outputs": [],
   "source": [
    "train_df, target_df = create_step_dataset(df, times_dict, target_list=target_list)"
   ]
  },
  {
   "cell_type": "code",
   "execution_count": 511,
   "id": "265fdd01-9d4d-43a0-ba5e-9b8c8c8945fc",
   "metadata": {
    "tags": []
   },
   "outputs": [
    {
     "data": {
      "text/plain": [
       "Index(['Ni_rec', 'Ni_resth', 'Cu_resth', 'Dens_1', 'Ni_oreth', 'Cu_oreth',\n",
       "       'FM_1.1_A', 'FM_1.2_A', 'Cu_2F', 'Ni_2F', 'Dens_2', 'Cu_2.1C',\n",
       "       'Ni_2.1C', 'Cu_2.2C', 'Ni_2.2C', 'Ni_2.1T', 'Ni_2.2T', 'FM_2.1_A',\n",
       "       'FM_2.2_A', 'Cu_3F', 'Ni_3F', 'Dens_3', 'Cu_4F', 'Ni_4F', 'Dens_4',\n",
       "       'Cu_3.1C', 'Ni_3.1C', 'Cu_3.2C', 'Ni_3.2C', 'Ni_3.1T', 'Ni_3.2T',\n",
       "       'FM_3.1_A', 'FM_3.2_A', 'FM_4.1_A', 'FM_4.2_A', 'Ni_5F', 'Dens_5',\n",
       "       'FM_5.1_A', 'FM_5.2_A', 'Ni_6F', 'Dens_6', 'FM_6.1_A', 'FM_6.2_A'],\n",
       "      dtype='object')"
      ]
     },
     "execution_count": 511,
     "metadata": {},
     "output_type": "execute_result"
    }
   ],
   "source": [
    "train_df.columns"
   ]
  },
  {
   "cell_type": "code",
   "execution_count": 512,
   "id": "d1628942-7b3b-4a71-a05e-d753615b48e5",
   "metadata": {
    "tags": []
   },
   "outputs": [],
   "source": [
    "model = cb.CatBoostRegressor(\n",
    "    iterations=2000,\n",
    "    learning_rate=0.02,\n",
    "    depth=6,\n",
    "    loss_function='MultiRMSEWithMissingValues',\n",
    "    eval_metric='MultiRMSEWithMissingValues'\n",
    ")"
   ]
  },
  {
   "cell_type": "code",
   "execution_count": 513,
   "id": "eb54ffd5-1b41-4484-bbce-4b1c684f73eb",
   "metadata": {
    "tags": []
   },
   "outputs": [
    {
     "data": {
      "text/plain": [
       "<catboost.core.CatBoostRegressor at 0x28e02d5cac0>"
      ]
     },
     "execution_count": 513,
     "metadata": {},
     "output_type": "execute_result"
    }
   ],
   "source": [
    "model.fit(train_df, target_df, verbose=False)"
   ]
  },
  {
   "cell_type": "code",
   "execution_count": 525,
   "id": "edc7712b-f284-47e7-97df-b8ca46c6fbc4",
   "metadata": {
    "tags": []
   },
   "outputs": [
    {
     "data": {
      "text/plain": [
       "Ni_1.1C    0.161159\n",
       "Cu_1.1C    0.106635\n",
       "Ni_1.2C    0.136895\n",
       "Cu_1.2C    0.182143\n",
       "Cu_2.1T    0.018645\n",
       "Cu_2.2T    0.018594\n",
       "Cu_3.1T    0.353590\n",
       "Cu_3.2T    0.207608\n",
       "Ni_4.1C    0.103629\n",
       "Ni_4.2C    0.097167\n",
       "Ni_4.1T    0.021086\n",
       "Ni_4.2T    0.039744\n",
       "Ni_5.1C    0.116877\n",
       "Ni_5.2C    0.200646\n",
       "Ni_5.1T    0.025854\n",
       "Ni_5.2T    0.027084\n",
       "Ni_6.1C    0.109308\n",
       "Ni_6.2C    0.072542\n",
       "Ni_6.1T    0.049855\n",
       "Ni_6.2T    0.085666\n",
       "dtype: float64"
      ]
     },
     "execution_count": 525,
     "metadata": {},
     "output_type": "execute_result"
    }
   ],
   "source": [
    "predictions = model.predict(train_df)\n",
    "rmse = ((target_df - predictions) ** 2).mean(axis=0) ** 0.5\n",
    "rmse"
   ]
  },
  {
   "cell_type": "code",
   "execution_count": 519,
   "id": "0a567778-a05d-4ff5-8373-520f95a1201c",
   "metadata": {
    "tags": []
   },
   "outputs": [],
   "source": [
    "model.save_model(\"./models/step_model_01.h5\")"
   ]
  },
  {
   "cell_type": "code",
   "execution_count": 214,
   "id": "4d261cae-7c6d-4966-88ad-4f47de21e087",
   "metadata": {
    "tags": []
   },
   "outputs": [],
   "source": [
    "def apply_kalman_filter_to_column(column):\n",
    "    # Параметры модели фильтра Калмана\n",
    "    initial_state_mean = column.iloc[0]\n",
    "    observation_covariance = np.eye(1)\n",
    "    transition_covariance = np.eye(1)\n",
    "    transition_matrix = np.array([[1]])\n",
    "    \n",
    "    kf = KalmanFilter(\n",
    "        transition_matrices=transition_matrix,\n",
    "        observation_matrices=np.ones((1, 1)),\n",
    "        initial_state_mean=initial_state_mean,\n",
    "        initial_state_covariance=observation_covariance,\n",
    "        observation_covariance=observation_covariance,\n",
    "        transition_covariance=transition_covariance\n",
    "    )\n",
    "    \n",
    "    state_means, _ = kf.filter(column.values)\n",
    "    \n",
    "    # Вставляем отфильтрованные значения обратно в исходную колонку\n",
    "    filtered_col = column.copy()\n",
    "    filtered_col.loc[column.index] = state_means.flatten()\n",
    "    \n",
    "    return filtered_col"
   ]
  },
  {
   "cell_type": "code",
   "execution_count": 215,
   "id": "9483f0e0-9e06-45e8-9feb-d47a815de7f3",
   "metadata": {
    "tags": []
   },
   "outputs": [],
   "source": [
    "df_kalman = df.copy()\n",
    "\n",
    "for col in df.select_dtypes(include=[np.number]):\n",
    "    df_kalman[col] = apply_kalman_filter_to_column(df_kalman[col])"
   ]
  },
  {
   "cell_type": "markdown",
   "id": "4f015eff-aefb-414b-947a-b9e48d3f334f",
   "metadata": {},
   "source": [
    "### Inference"
   ]
  },
  {
   "cell_type": "code",
   "execution_count": 531,
   "id": "5844ef15-b16a-4b2e-9d77-164158d7199b",
   "metadata": {
    "tags": []
   },
   "outputs": [],
   "source": [
    "model = cb.CatBoostRegressor().load_model(\"./models/step_model_01.h5\")"
   ]
  },
  {
   "cell_type": "code",
   "execution_count": 532,
   "id": "19b3ad4b-5cf4-4fbb-a25c-4f81f8b8da66",
   "metadata": {
    "tags": []
   },
   "outputs": [],
   "source": [
    "train_df['Ni_resth'] = 9."
   ]
  },
  {
   "cell_type": "code",
   "execution_count": 533,
   "id": "4567f9a6-6f68-4ebc-ac10-97e7edcf5b63",
   "metadata": {
    "tags": []
   },
   "outputs": [],
   "source": [
    "predictions = model.predict(train_df)"
   ]
  },
  {
   "cell_type": "code",
   "execution_count": 534,
   "id": "378de8d2-183c-463f-8d49-67f3c9602faa",
   "metadata": {
    "tags": []
   },
   "outputs": [],
   "source": [
    "predictions_df = pd.DataFrame(predictions, columns=target_df.columns)\n",
    "predictions_df['MEAS_DT'] = df['MEAS_DT']"
   ]
  },
  {
   "cell_type": "code",
   "execution_count": 535,
   "id": "87e05cbe-b0fa-4703-9004-73d00c8cee17",
   "metadata": {
    "tags": []
   },
   "outputs": [],
   "source": [
    "test_path = \"./data/test.csv\""
   ]
  },
  {
   "cell_type": "code",
   "execution_count": 536,
   "id": "457440c6-94c9-4b9e-9027-39da522126b1",
   "metadata": {
    "tags": []
   },
   "outputs": [],
   "source": [
    "test_df = pd.read_csv(test_path)\n",
    "test_df = test_df.infer_objects()\n",
    "test_df['MEAS_DT'] = pd.to_datetime(test_df['MEAS_DT'])"
   ]
  },
  {
   "cell_type": "code",
   "execution_count": 547,
   "id": "43660b58-5983-4574-8a4f-06fe80c440da",
   "metadata": {
    "tags": []
   },
   "outputs": [],
   "source": [
    "def get_threshold(col_name):\n",
    "    threshold_dict = {\n",
    "        'Ni_1.*C': 0.1,\n",
    "        'Cu_1.*C': 0.1,\n",
    "        'Cu_2.*T': 0.01,\n",
    "        'Cu_3.*T': 0.05,\n",
    "        'Ni_4.*T': 0.01,\n",
    "        'Ni_4.*C': 0.05,\n",
    "        'Ni_5.*T': 0.01,\n",
    "        'Ni_5.*C': 0.05,\n",
    "        'Ni_6.*T': 0.01,\n",
    "        'Ni_6.*C': 0.05,\n",
    "    }\n",
    "    col_name = list(col_name)\n",
    "    col_name[5] = '*'\n",
    "    col_name = ''.join(col_name)\n",
    "    return threshold_dict[col_name]\n",
    "\n",
    "\n",
    "def create_test_df(test_df, predictions_df, rmse, window_size=8):\n",
    "    full_df = test_df.merge(predictions_df, on='MEAS_DT')\n",
    "    for col in predictions_df.columns:\n",
    "        if col == 'MEAS_DT':\n",
    "            continue\n",
    "        cur_threshold = get_threshold(col)\n",
    "        # print(cur_threshold)\n",
    "        data = full_df[col]\n",
    "        err = rmse[col]\n",
    "        cur_min = data[:window_size].min()\n",
    "        cur_max = data[:window_size].max()\n",
    "\n",
    "        splitter = DecisionTreeRegressor(min_samples_leaf=window_size).fit(np.arange(data.shape[0]).reshape(-1, 1), data.to_numpy().reshape(-1, 1))\n",
    "        predict = splitter.predict(np.arange(data.shape[0]).reshape(-1, 1))\n",
    "\n",
    "        cur_predict = predict[0] // cur_threshold * cur_threshold\n",
    "        min_arr = np.zeros_like(data)\n",
    "        max_arr = np.zeros_like(data)\n",
    "        cur_gap = ((data[:window_size].std() + 2 * err) // cur_threshold + 1) * cur_threshold \n",
    "        for i, num in enumerate(predict):\n",
    "            if abs(num - cur_predict) < cur_threshold:\n",
    "                predict[i] = cur_predict\n",
    "            else:\n",
    "                cur_predict = predict[i] // cur_threshold * cur_threshold\n",
    "                predict[i] = cur_predict\n",
    "                cur_gap = ((data[i:i + window_size].std() + 2 * err) // cur_threshold + 1) * cur_threshold \n",
    "            min_arr[i] = predict[i] - cur_gap\n",
    "            max_arr[i] = predict[i] + cur_gap\n",
    "        full_df[f'{col}_min'] = min_arr\n",
    "        full_df[f'{col}_max'] = max_arr\n",
    "    return full_df.loc[:, test_df.columns], full_df"
   ]
  },
  {
   "cell_type": "code",
   "execution_count": 548,
   "id": "fbbf9d02-96c8-4471-8ce9-1494457c88ee",
   "metadata": {
    "tags": []
   },
   "outputs": [],
   "source": [
    "result_df, full_df = create_test_df(test_df, predictions_df, rmse, window_size=8)"
   ]
  },
  {
   "cell_type": "code",
   "execution_count": 549,
   "id": "327040e1-720f-4f73-9b84-65113832078c",
   "metadata": {
    "tags": []
   },
   "outputs": [
    {
     "data": {
      "text/html": [
       "<div>\n",
       "<style scoped>\n",
       "    .dataframe tbody tr th:only-of-type {\n",
       "        vertical-align: middle;\n",
       "    }\n",
       "\n",
       "    .dataframe tbody tr th {\n",
       "        vertical-align: top;\n",
       "    }\n",
       "\n",
       "    .dataframe thead th {\n",
       "        text-align: right;\n",
       "    }\n",
       "</style>\n",
       "<table border=\"1\" class=\"dataframe\">\n",
       "  <thead>\n",
       "    <tr style=\"text-align: right;\">\n",
       "      <th></th>\n",
       "      <th>MEAS_DT</th>\n",
       "      <th>Ni_1.1C_min</th>\n",
       "      <th>Ni_1.1C_max</th>\n",
       "      <th>Cu_1.1C_min</th>\n",
       "      <th>Cu_1.1C_max</th>\n",
       "      <th>Ni_1.2C_min</th>\n",
       "      <th>Ni_1.2C_max</th>\n",
       "      <th>Cu_1.2C_min</th>\n",
       "      <th>Cu_1.2C_max</th>\n",
       "      <th>Cu_2.1T_min</th>\n",
       "      <th>...</th>\n",
       "      <th>Ni_5.2C_min</th>\n",
       "      <th>Ni_5.2C_max</th>\n",
       "      <th>Ni_6.1T_min</th>\n",
       "      <th>Ni_6.1T_max</th>\n",
       "      <th>Ni_6.1C_min</th>\n",
       "      <th>Ni_6.1C_max</th>\n",
       "      <th>Ni_6.2T_min</th>\n",
       "      <th>Ni_6.2T_max</th>\n",
       "      <th>Ni_6.2C_min</th>\n",
       "      <th>Ni_6.2C_max</th>\n",
       "    </tr>\n",
       "  </thead>\n",
       "  <tbody>\n",
       "    <tr>\n",
       "      <th>0</th>\n",
       "      <td>2024-01-19 12:15:00</td>\n",
       "      <td>2.3</td>\n",
       "      <td>3.1</td>\n",
       "      <td>4.2</td>\n",
       "      <td>5.0</td>\n",
       "      <td>2.5</td>\n",
       "      <td>3.3</td>\n",
       "      <td>4.4</td>\n",
       "      <td>5.2</td>\n",
       "      <td>0.39</td>\n",
       "      <td>...</td>\n",
       "      <td>5.95</td>\n",
       "      <td>6.95</td>\n",
       "      <td>1.02</td>\n",
       "      <td>1.28</td>\n",
       "      <td>8.4</td>\n",
       "      <td>9.2</td>\n",
       "      <td>0.78</td>\n",
       "      <td>1.24</td>\n",
       "      <td>8.85</td>\n",
       "      <td>9.35</td>\n",
       "    </tr>\n",
       "    <tr>\n",
       "      <th>1</th>\n",
       "      <td>2024-01-19 12:30:00</td>\n",
       "      <td>2.3</td>\n",
       "      <td>3.1</td>\n",
       "      <td>4.2</td>\n",
       "      <td>5.0</td>\n",
       "      <td>2.5</td>\n",
       "      <td>3.3</td>\n",
       "      <td>4.4</td>\n",
       "      <td>5.2</td>\n",
       "      <td>0.39</td>\n",
       "      <td>...</td>\n",
       "      <td>5.95</td>\n",
       "      <td>6.95</td>\n",
       "      <td>1.02</td>\n",
       "      <td>1.28</td>\n",
       "      <td>8.4</td>\n",
       "      <td>9.2</td>\n",
       "      <td>0.78</td>\n",
       "      <td>1.24</td>\n",
       "      <td>8.85</td>\n",
       "      <td>9.35</td>\n",
       "    </tr>\n",
       "    <tr>\n",
       "      <th>2</th>\n",
       "      <td>2024-01-19 12:45:00</td>\n",
       "      <td>2.3</td>\n",
       "      <td>3.1</td>\n",
       "      <td>4.2</td>\n",
       "      <td>5.0</td>\n",
       "      <td>2.5</td>\n",
       "      <td>3.3</td>\n",
       "      <td>4.4</td>\n",
       "      <td>5.2</td>\n",
       "      <td>0.39</td>\n",
       "      <td>...</td>\n",
       "      <td>5.95</td>\n",
       "      <td>6.95</td>\n",
       "      <td>1.02</td>\n",
       "      <td>1.28</td>\n",
       "      <td>8.4</td>\n",
       "      <td>9.2</td>\n",
       "      <td>0.78</td>\n",
       "      <td>1.24</td>\n",
       "      <td>8.85</td>\n",
       "      <td>9.35</td>\n",
       "    </tr>\n",
       "    <tr>\n",
       "      <th>3</th>\n",
       "      <td>2024-01-19 13:00:00</td>\n",
       "      <td>2.3</td>\n",
       "      <td>3.1</td>\n",
       "      <td>4.2</td>\n",
       "      <td>5.0</td>\n",
       "      <td>2.5</td>\n",
       "      <td>3.3</td>\n",
       "      <td>4.4</td>\n",
       "      <td>5.2</td>\n",
       "      <td>0.39</td>\n",
       "      <td>...</td>\n",
       "      <td>5.95</td>\n",
       "      <td>6.95</td>\n",
       "      <td>1.02</td>\n",
       "      <td>1.28</td>\n",
       "      <td>8.4</td>\n",
       "      <td>9.2</td>\n",
       "      <td>0.78</td>\n",
       "      <td>1.24</td>\n",
       "      <td>8.85</td>\n",
       "      <td>9.35</td>\n",
       "    </tr>\n",
       "    <tr>\n",
       "      <th>4</th>\n",
       "      <td>2024-01-19 13:15:00</td>\n",
       "      <td>2.3</td>\n",
       "      <td>3.1</td>\n",
       "      <td>4.2</td>\n",
       "      <td>5.0</td>\n",
       "      <td>2.5</td>\n",
       "      <td>3.3</td>\n",
       "      <td>4.4</td>\n",
       "      <td>5.2</td>\n",
       "      <td>0.39</td>\n",
       "      <td>...</td>\n",
       "      <td>5.95</td>\n",
       "      <td>6.95</td>\n",
       "      <td>1.02</td>\n",
       "      <td>1.28</td>\n",
       "      <td>8.4</td>\n",
       "      <td>9.2</td>\n",
       "      <td>0.78</td>\n",
       "      <td>1.24</td>\n",
       "      <td>8.85</td>\n",
       "      <td>9.35</td>\n",
       "    </tr>\n",
       "    <tr>\n",
       "      <th>...</th>\n",
       "      <td>...</td>\n",
       "      <td>...</td>\n",
       "      <td>...</td>\n",
       "      <td>...</td>\n",
       "      <td>...</td>\n",
       "      <td>...</td>\n",
       "      <td>...</td>\n",
       "      <td>...</td>\n",
       "      <td>...</td>\n",
       "      <td>...</td>\n",
       "      <td>...</td>\n",
       "      <td>...</td>\n",
       "      <td>...</td>\n",
       "      <td>...</td>\n",
       "      <td>...</td>\n",
       "      <td>...</td>\n",
       "      <td>...</td>\n",
       "      <td>...</td>\n",
       "      <td>...</td>\n",
       "      <td>...</td>\n",
       "      <td>...</td>\n",
       "    </tr>\n",
       "    <tr>\n",
       "      <th>6735</th>\n",
       "      <td>2024-11-05 17:30:00</td>\n",
       "      <td>2.4</td>\n",
       "      <td>3.2</td>\n",
       "      <td>4.2</td>\n",
       "      <td>4.8</td>\n",
       "      <td>2.7</td>\n",
       "      <td>3.3</td>\n",
       "      <td>4.0</td>\n",
       "      <td>5.0</td>\n",
       "      <td>0.33</td>\n",
       "      <td>...</td>\n",
       "      <td>6.00</td>\n",
       "      <td>6.90</td>\n",
       "      <td>1.51</td>\n",
       "      <td>1.83</td>\n",
       "      <td>8.6</td>\n",
       "      <td>9.3</td>\n",
       "      <td>1.25</td>\n",
       "      <td>1.73</td>\n",
       "      <td>8.85</td>\n",
       "      <td>9.35</td>\n",
       "    </tr>\n",
       "    <tr>\n",
       "      <th>6736</th>\n",
       "      <td>2024-11-05 17:45:00</td>\n",
       "      <td>2.4</td>\n",
       "      <td>3.2</td>\n",
       "      <td>4.2</td>\n",
       "      <td>4.8</td>\n",
       "      <td>2.7</td>\n",
       "      <td>3.3</td>\n",
       "      <td>4.0</td>\n",
       "      <td>5.0</td>\n",
       "      <td>0.33</td>\n",
       "      <td>...</td>\n",
       "      <td>6.00</td>\n",
       "      <td>6.90</td>\n",
       "      <td>1.51</td>\n",
       "      <td>1.83</td>\n",
       "      <td>8.6</td>\n",
       "      <td>9.3</td>\n",
       "      <td>1.25</td>\n",
       "      <td>1.73</td>\n",
       "      <td>8.85</td>\n",
       "      <td>9.35</td>\n",
       "    </tr>\n",
       "    <tr>\n",
       "      <th>6737</th>\n",
       "      <td>2024-11-05 18:00:00</td>\n",
       "      <td>2.4</td>\n",
       "      <td>3.2</td>\n",
       "      <td>4.2</td>\n",
       "      <td>4.8</td>\n",
       "      <td>2.7</td>\n",
       "      <td>3.3</td>\n",
       "      <td>4.0</td>\n",
       "      <td>5.0</td>\n",
       "      <td>0.33</td>\n",
       "      <td>...</td>\n",
       "      <td>6.00</td>\n",
       "      <td>6.90</td>\n",
       "      <td>1.51</td>\n",
       "      <td>1.83</td>\n",
       "      <td>8.6</td>\n",
       "      <td>9.3</td>\n",
       "      <td>1.25</td>\n",
       "      <td>1.73</td>\n",
       "      <td>8.85</td>\n",
       "      <td>9.35</td>\n",
       "    </tr>\n",
       "    <tr>\n",
       "      <th>6738</th>\n",
       "      <td>2024-11-05 18:15:00</td>\n",
       "      <td>2.4</td>\n",
       "      <td>3.2</td>\n",
       "      <td>4.2</td>\n",
       "      <td>4.8</td>\n",
       "      <td>2.7</td>\n",
       "      <td>3.3</td>\n",
       "      <td>4.0</td>\n",
       "      <td>5.0</td>\n",
       "      <td>0.33</td>\n",
       "      <td>...</td>\n",
       "      <td>6.00</td>\n",
       "      <td>6.90</td>\n",
       "      <td>1.51</td>\n",
       "      <td>1.83</td>\n",
       "      <td>8.6</td>\n",
       "      <td>9.3</td>\n",
       "      <td>1.25</td>\n",
       "      <td>1.73</td>\n",
       "      <td>8.85</td>\n",
       "      <td>9.35</td>\n",
       "    </tr>\n",
       "    <tr>\n",
       "      <th>6739</th>\n",
       "      <td>2024-11-05 18:30:00</td>\n",
       "      <td>2.4</td>\n",
       "      <td>3.2</td>\n",
       "      <td>4.2</td>\n",
       "      <td>4.8</td>\n",
       "      <td>2.7</td>\n",
       "      <td>3.3</td>\n",
       "      <td>4.0</td>\n",
       "      <td>5.0</td>\n",
       "      <td>0.33</td>\n",
       "      <td>...</td>\n",
       "      <td>6.00</td>\n",
       "      <td>6.90</td>\n",
       "      <td>1.51</td>\n",
       "      <td>1.83</td>\n",
       "      <td>8.6</td>\n",
       "      <td>9.3</td>\n",
       "      <td>1.25</td>\n",
       "      <td>1.73</td>\n",
       "      <td>8.85</td>\n",
       "      <td>9.35</td>\n",
       "    </tr>\n",
       "  </tbody>\n",
       "</table>\n",
       "<p>6740 rows × 41 columns</p>\n",
       "</div>"
      ],
      "text/plain": [
       "                 MEAS_DT  Ni_1.1C_min  Ni_1.1C_max  Cu_1.1C_min  Cu_1.1C_max  \\\n",
       "0    2024-01-19 12:15:00          2.3          3.1          4.2          5.0   \n",
       "1    2024-01-19 12:30:00          2.3          3.1          4.2          5.0   \n",
       "2    2024-01-19 12:45:00          2.3          3.1          4.2          5.0   \n",
       "3    2024-01-19 13:00:00          2.3          3.1          4.2          5.0   \n",
       "4    2024-01-19 13:15:00          2.3          3.1          4.2          5.0   \n",
       "...                  ...          ...          ...          ...          ...   \n",
       "6735 2024-11-05 17:30:00          2.4          3.2          4.2          4.8   \n",
       "6736 2024-11-05 17:45:00          2.4          3.2          4.2          4.8   \n",
       "6737 2024-11-05 18:00:00          2.4          3.2          4.2          4.8   \n",
       "6738 2024-11-05 18:15:00          2.4          3.2          4.2          4.8   \n",
       "6739 2024-11-05 18:30:00          2.4          3.2          4.2          4.8   \n",
       "\n",
       "      Ni_1.2C_min  Ni_1.2C_max  Cu_1.2C_min  Cu_1.2C_max  Cu_2.1T_min  ...  \\\n",
       "0             2.5          3.3          4.4          5.2         0.39  ...   \n",
       "1             2.5          3.3          4.4          5.2         0.39  ...   \n",
       "2             2.5          3.3          4.4          5.2         0.39  ...   \n",
       "3             2.5          3.3          4.4          5.2         0.39  ...   \n",
       "4             2.5          3.3          4.4          5.2         0.39  ...   \n",
       "...           ...          ...          ...          ...          ...  ...   \n",
       "6735          2.7          3.3          4.0          5.0         0.33  ...   \n",
       "6736          2.7          3.3          4.0          5.0         0.33  ...   \n",
       "6737          2.7          3.3          4.0          5.0         0.33  ...   \n",
       "6738          2.7          3.3          4.0          5.0         0.33  ...   \n",
       "6739          2.7          3.3          4.0          5.0         0.33  ...   \n",
       "\n",
       "      Ni_5.2C_min  Ni_5.2C_max  Ni_6.1T_min  Ni_6.1T_max  Ni_6.1C_min  \\\n",
       "0            5.95         6.95         1.02         1.28          8.4   \n",
       "1            5.95         6.95         1.02         1.28          8.4   \n",
       "2            5.95         6.95         1.02         1.28          8.4   \n",
       "3            5.95         6.95         1.02         1.28          8.4   \n",
       "4            5.95         6.95         1.02         1.28          8.4   \n",
       "...           ...          ...          ...          ...          ...   \n",
       "6735         6.00         6.90         1.51         1.83          8.6   \n",
       "6736         6.00         6.90         1.51         1.83          8.6   \n",
       "6737         6.00         6.90         1.51         1.83          8.6   \n",
       "6738         6.00         6.90         1.51         1.83          8.6   \n",
       "6739         6.00         6.90         1.51         1.83          8.6   \n",
       "\n",
       "      Ni_6.1C_max  Ni_6.2T_min  Ni_6.2T_max  Ni_6.2C_min  Ni_6.2C_max  \n",
       "0             9.2         0.78         1.24         8.85         9.35  \n",
       "1             9.2         0.78         1.24         8.85         9.35  \n",
       "2             9.2         0.78         1.24         8.85         9.35  \n",
       "3             9.2         0.78         1.24         8.85         9.35  \n",
       "4             9.2         0.78         1.24         8.85         9.35  \n",
       "...           ...          ...          ...          ...          ...  \n",
       "6735          9.3         1.25         1.73         8.85         9.35  \n",
       "6736          9.3         1.25         1.73         8.85         9.35  \n",
       "6737          9.3         1.25         1.73         8.85         9.35  \n",
       "6738          9.3         1.25         1.73         8.85         9.35  \n",
       "6739          9.3         1.25         1.73         8.85         9.35  \n",
       "\n",
       "[6740 rows x 41 columns]"
      ]
     },
     "execution_count": 549,
     "metadata": {},
     "output_type": "execute_result"
    }
   ],
   "source": [
    "result_df"
   ]
  },
  {
   "cell_type": "code",
   "execution_count": 550,
   "id": "673b7e9b-24fb-489d-a999-4846bc94539d",
   "metadata": {
    "tags": []
   },
   "outputs": [],
   "source": [
    "result_df.to_csv(\"./test_results/test.csv\", index=False)"
   ]
  },
  {
   "cell_type": "code",
   "execution_count": null,
   "id": "ff7c1226-b259-4664-a1d1-92d4e098a90b",
   "metadata": {},
   "outputs": [],
   "source": []
  },
  {
   "cell_type": "code",
   "execution_count": 558,
   "id": "37ab8aa4-a330-4c38-88c8-bd40f692b283",
   "metadata": {
    "tags": []
   },
   "outputs": [
    {
     "data": {
      "text/plain": [
       "<matplotlib.legend.Legend at 0x28e53183f70>"
      ]
     },
     "execution_count": 558,
     "metadata": {},
     "output_type": "execute_result"
    },
    {
     "data": {
      "image/png": "[encoded data removed]",
      "text/plain": [
       "<Figure size 1200x600 with 1 Axes>"
      ]
     },
     "metadata": {},
     "output_type": "display_data"
    }
   ],
   "source": [
    "col = \"Ni_6.2C\"\n",
    "\n",
    "plt.figure(figsize=(12, 6))\n",
    "plt.plot(full_df.merge(df, on='MEAS_DT')[f\"{col}_y\"][500:1000], c=\"green\", label=\"True\")\n",
    "plt.plot(full_df.loc[500:1000, f\"{col}\"], c=\"orange\", label=\"Predict\")\n",
    "plt.plot(result_df.loc[500:1000, f\"{col}_min\"], c=\"red\", label=\"Min_max border\")\n",
    "plt.plot(result_df.loc[500:1000, f\"{col}_max\"], c=\"red\")\n",
    "plt.title(f\"{col} prediction compare\")\n",
    "plt.legend()"
   ]
  },
  {
   "cell_type": "code",
   "execution_count": null,
   "id": "f52c315e-dc4c-4b7c-929c-53cd8fc3b563",
   "metadata": {},
   "outputs": [],
   "source": []
  }
 ],
 "metadata": {
  "kernelspec": {
   "display_name": "Python 3 (ipykernel)",
   "language": "python",
   "name": "python3"
  },
  "language_info": {
   "codemirror_mode": {
    "name": "ipython",
    "version": 3
   },
   "file_extension": ".py",
   "mimetype": "text/x-python",
   "name": "python",
   "nbconvert_exporter": "python",
   "pygments_lexer": "ipython3",
   "version": "3.8.10"
  }
 },
 "nbformat": 4,
 "nbformat_minor": 5
}
